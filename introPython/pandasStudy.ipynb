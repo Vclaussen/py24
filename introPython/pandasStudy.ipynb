{
 "cells": [
  {
   "cell_type": "code",
   "execution_count": null,
   "metadata": {},
   "outputs": [],
   "source": [
    "import pandas as pd\n",
    "\n",
    "#read/write csv\n",
    "data = pd.read_csv('fileName')\n",
    "\n",
    "data = pd.read_csv(\"data.csv\", index_col=0)\n",
    "\n",
    "#read/write to excel\n",
    "df=[1]\n",
    "pd.read_excel('file.xlsx')\n",
    "df.to_excel('dir/myDataFrame.xlsx', sheet_name='sheet2')\n",
    "\n",
    "#read/write to sql\n",
    "import sqlalchemy\n",
    "from sqlalchemy import create_engine\n",
    "#didnt want to write all this code\n",
    "#but pandas can write to sql\n"
   ]
  },
  {
   "cell_type": "code",
   "execution_count": 10,
   "metadata": {},
   "outputs": [
    {
     "data": {
      "text/plain": [
       "indexName\n",
       "c    3\n",
       "d    4\n",
       "Name: seriesName, dtype: int64"
      ]
     },
     "execution_count": 10,
     "metadata": {},
     "output_type": "execute_result"
    }
   ],
   "source": [
    "import pandas as pd\n",
    "\n",
    "#create and name a series\n",
    "series1 = pd.Series([1, 2, 3, 4], \n",
    "    index=['a', 'b', 'c', 'd'])\n",
    "\n",
    "#set the series name\n",
    "series1.name = \"seriesName\"\n",
    "\n",
    "#set index name\n",
    "series1.index.name = \"indexName\"\n",
    "\n",
    "#get the first 4 elements\n",
    "series1.head(4)\n",
    "\n",
    "#get the first two elements\n",
    "series1[:2]\n",
    "\n",
    "#get the last two elements\n",
    "series1[-2:]"
   ]
  },
  {
   "cell_type": "code",
   "execution_count": 15,
   "metadata": {},
   "outputs": [
    {
     "ename": "TypeError",
     "evalue": "DataFrame.__init__() got multiple values for argument 'index'",
     "output_type": "error",
     "traceback": [
      "\u001b[0;31m---------------------------------------------------------------------------\u001b[0m",
      "\u001b[0;31mTypeError\u001b[0m                                 Traceback (most recent call last)",
      "Cell \u001b[0;32mIn[15], line 4\u001b[0m\n\u001b[1;32m      1\u001b[0m \u001b[39mimport\u001b[39;00m \u001b[39mpandas\u001b[39;00m \u001b[39mas\u001b[39;00m \u001b[39mpd\u001b[39;00m\n\u001b[1;32m      3\u001b[0m \u001b[39m#dataframe\u001b[39;00m\n\u001b[0;32m----> 4\u001b[0m df \u001b[39m=\u001b[39m pd\u001b[39m.\u001b[39;49mDataFrame(\n\u001b[1;32m      5\u001b[0m     [\u001b[39m1\u001b[39;49m, \u001b[39m2\u001b[39;49m, \u001b[39m3\u001b[39;49m],\n\u001b[1;32m      6\u001b[0m     [\u001b[39m4\u001b[39;49m, \u001b[39m6\u001b[39;49m, \u001b[39m8\u001b[39;49m],\n\u001b[1;32m      7\u001b[0m     [\u001b[39m10\u001b[39;49m, \u001b[39m11\u001b[39;49m, \u001b[39m12\u001b[39;49m], \n\u001b[1;32m      8\u001b[0m     index\u001b[39m=\u001b[39;49m[\u001b[39m1\u001b[39;49m, \u001b[39m2\u001b[39;49m, \u001b[39m3\u001b[39;49m], \n\u001b[1;32m      9\u001b[0m     columns\u001b[39m=\u001b[39;49m[\u001b[39m'\u001b[39;49m\u001b[39ma\u001b[39;49m\u001b[39m'\u001b[39;49m, \u001b[39m'\u001b[39;49m\u001b[39mb\u001b[39;49m\u001b[39m'\u001b[39;49m, \u001b[39m'\u001b[39;49m\u001b[39mc\u001b[39;49m\u001b[39m'\u001b[39;49m])\n\u001b[1;32m     11\u001b[0m \u001b[39mprint\u001b[39m(df)\n",
      "\u001b[0;31mTypeError\u001b[0m: DataFrame.__init__() got multiple values for argument 'index'"
     ]
    }
   ],
   "source": [
    "import pandas as pd\n",
    "\n",
    "#dataframe\n",
    "df = pd.DataFrame(\n",
    "    [1, 2, 3],\n",
    "    [4, 6, 8],\n",
    "    [10, 11, 12], \n",
    "    index=[1, 2, 3], \n",
    "    columns=['a', 'b', 'c'])\n",
    "\n",
    "print(df)"
   ]
  },
  {
   "cell_type": "code",
   "execution_count": 11,
   "metadata": {},
   "outputs": [
    {
     "name": "stdout",
     "output_type": "stream",
     "text": [
      "        name   degree  score\n",
      "True   name1  degree1      1\n",
      "False  name2  degree2      2\n",
      "True   name3  degree3      3\n",
      "False  name4  degree4      4\n"
     ]
    }
   ],
   "source": [
    "import pandas as pd\n",
    "\n",
    "#dictionary of lists\n",
    "dict = {'name': ['name1', 'name2', 'name3', 'name4'],\n",
    "        'degree': ['degree1', 'degree2', 'degree3', 'degree4'],\n",
    "        'score':[1, 2, 3, 4]\n",
    "    }\n",
    "\n",
    "df = pd.DataFrame(dict, index = [True, False, True, False])\n",
    "\n",
    "print(df)"
   ]
  }
 ],
 "metadata": {
  "kernelspec": {
   "display_name": "Python 3",
   "language": "python",
   "name": "python3"
  },
  "language_info": {
   "codemirror_mode": {
    "name": "ipython",
    "version": 3
   },
   "file_extension": ".py",
   "mimetype": "text/x-python",
   "name": "python",
   "nbconvert_exporter": "python",
   "pygments_lexer": "ipython3",
   "version": "3.10.6"
  },
  "orig_nbformat": 4
 },
 "nbformat": 4,
 "nbformat_minor": 2
}
